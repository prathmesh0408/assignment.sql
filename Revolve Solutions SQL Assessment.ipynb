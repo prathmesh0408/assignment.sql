{
 "cells": [
  {
   "cell_type": "markdown",
   "id": "aee4bcae",
   "metadata": {},
   "source": [
    "# Which manufacturer's planes had the most number of flights? And how many flights?"
   ]
  },
  {
   "cell_type": "code",
   "execution_count": null,
   "id": "376847f0",
   "metadata": {},
   "outputs": [],
   "source": [
    "SELECT manufacturer, COUNT(*) AS flight_count\n",
    "FROM flights\n",
    "GROUP BY manufacturer\n",
    "ORDER BY flight_count DESC\n",
    "LIMIT 1;"
   ]
  },
  {
   "cell_type": "code",
   "execution_count": null,
   "id": "9778493b",
   "metadata": {},
   "outputs": [],
   "source": []
  },
  {
   "cell_type": "markdown",
   "id": "063d5b47",
   "metadata": {},
   "source": [
    "# Which manufacturer's planes had the most number of flying hours? And how many hours?"
   ]
  },
  {
   "cell_type": "code",
   "execution_count": null,
   "id": "497a7eff",
   "metadata": {},
   "outputs": [],
   "source": [
    "SELECT manufacturer, SUM(flying_hours) AS total_flying_hours\n",
    "FROM flights\n",
    "GROUP BY manufacturer\n",
    "ORDER BY total_flying_hours DESC\n",
    "LIMIT 1;"
   ]
  },
  {
   "cell_type": "code",
   "execution_count": null,
   "id": "6b42779f",
   "metadata": {},
   "outputs": [],
   "source": []
  },
  {
   "cell_type": "markdown",
   "id": "16ae84c8",
   "metadata": {},
   "source": [
    "# Which plane flew the most number of hours? And how many hours?"
   ]
  },
  {
   "cell_type": "code",
   "execution_count": null,
   "id": "43730201",
   "metadata": {},
   "outputs": [],
   "source": [
    "SELECT plane_id, SUM(flying_hours) AS total_flying_hours\n",
    "FROM flights\n",
    "GROUP BY plane_id\n",
    "ORDER BY total_flying_hours DESC\n",
    "LIMIT 1;"
   ]
  },
  {
   "cell_type": "code",
   "execution_count": null,
   "id": "9a314352",
   "metadata": {},
   "outputs": [],
   "source": []
  },
  {
   "cell_type": "markdown",
   "id": "2148930f",
   "metadata": {},
   "source": [
    "# Which destination had the most delay in flights?"
   ]
  },
  {
   "cell_type": "code",
   "execution_count": null,
   "id": "20a4bd7e",
   "metadata": {},
   "outputs": [],
   "source": [
    "SELECT destination, COUNT(*) AS delay_count\n",
    "FROM flights\n",
    "WHERE departure_delay > 0\n",
    "GROUP BY destination\n",
    "ORDER BY delay_count DESC\n",
    "LIMIT 1;"
   ]
  },
  {
   "cell_type": "code",
   "execution_count": null,
   "id": "64d5d27f",
   "metadata": {},
   "outputs": [],
   "source": []
  },
  {
   "cell_type": "markdown",
   "id": "bec96d2b",
   "metadata": {},
   "source": [
    "# Which manufacturer's planes had covered the most distance? And how much distance?"
   ]
  },
  {
   "cell_type": "code",
   "execution_count": null,
   "id": "4ac06d75",
   "metadata": {},
   "outputs": [],
   "source": [
    "SELECT manufacturer, SUM(distance) AS total_distance\n",
    "FROM flights\n",
    "GROUP BY manufacturer\n",
    "ORDER BY total_distance DESC\n",
    "LIMIT 1;"
   ]
  },
  {
   "cell_type": "code",
   "execution_count": null,
   "id": "41249f90",
   "metadata": {},
   "outputs": [],
   "source": []
  },
  {
   "cell_type": "markdown",
   "id": "1774ea7c",
   "metadata": {},
   "source": [
    "# Which airport had the most flights on weekends?"
   ]
  },
  {
   "cell_type": "code",
   "execution_count": null,
   "id": "4ee5b714",
   "metadata": {},
   "outputs": [],
   "source": [
    "SELECT airport_code, COUNT(*) AS weekend_flight_count\n",
    "FROM flights\n",
    "WHERE DAYOFWEEK(departure_date) IN (1, 7)  -- Assuming 1 is Sunday and 7 is Saturday\n",
    "GROUP BY airport_code\n",
    "ORDER BY weekend_flight_count DESC\n",
    "LIMIT 1;"
   ]
  },
  {
   "cell_type": "code",
   "execution_count": null,
   "id": "7fb706d3",
   "metadata": {},
   "outputs": [],
   "source": []
  },
  {
   "cell_type": "code",
   "execution_count": null,
   "id": "4c9b4443",
   "metadata": {},
   "outputs": [],
   "source": []
  },
  {
   "cell_type": "code",
   "execution_count": null,
   "id": "325c79ca",
   "metadata": {},
   "outputs": [],
   "source": []
  },
  {
   "cell_type": "code",
   "execution_count": null,
   "id": "470b5544",
   "metadata": {},
   "outputs": [],
   "source": []
  },
  {
   "cell_type": "code",
   "execution_count": null,
   "id": "92e3abb1",
   "metadata": {},
   "outputs": [],
   "source": []
  },
  {
   "cell_type": "code",
   "execution_count": null,
   "id": "316792f8",
   "metadata": {},
   "outputs": [],
   "source": []
  }
 ],
 "metadata": {
  "kernelspec": {
   "display_name": "Python 3 (ipykernel)",
   "language": "python",
   "name": "python3"
  },
  "language_info": {
   "codemirror_mode": {
    "name": "ipython",
    "version": 3
   },
   "file_extension": ".py",
   "mimetype": "text/x-python",
   "name": "python",
   "nbconvert_exporter": "python",
   "pygments_lexer": "ipython3",
   "version": "3.9.12"
  }
 },
 "nbformat": 4,
 "nbformat_minor": 5
}
